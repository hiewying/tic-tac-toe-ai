{
  "cells": [
    {
      "metadata": {
        "trusted": true
      },
      "cell_type": "code",
      "source": "import numpy as np",
      "execution_count": 1,
      "outputs": []
    },
    {
      "metadata": {
        "trusted": true
      },
      "cell_type": "code",
      "source": "class CurrentBoard:\n    def __init__(self,setup_of_board = \"         \"):\n        self.X = \"X\"\n        self.O = \"O\"\n        self.space = \" \"\n        \n        if len(setup_of_board) !=9:\n            print(\"Board has to have 9 entries\")\n        else:\n            self.board = setup_of_board\n            self.outcome = self.game_won()\n            self.game_board = self.construct_display_string()\n        \n    def construct_display_string(self):\n        hold = \"\"\n        for i in range(len(self.board)):\n            if self.board[i] == self.space:\n                hold += str(i)\n            else:\n                hold += self.board[i]\n        return hold\n            \n    def display_gameboard(self):\n        self.display(self.game_board)\n    \n    def display(self, board_string= \"\"):\n        if board_string == \"\":\n            c = self.board\n        else:\n            c = board_string\n            \n        print(\"{}|{}|{}\".format(c[0],c[1],c[2]))\n        print(\"-----\")\n        print(\"{}|{}|{}\".format(c[3],c[4],c[5]))\n        print(\"-----\")\n        print(\"{}|{}|{}\".format(c[6],c[7],c[8]))\n        \n    \n    def eq3(self, i,j,k):\n        return (self.board[i] == self.board[j]) and (self.board[j] == self.board[k]) and (self.board[i] != self.space)\n    \n    def game_won(self):\n        # Return X if X wins, O if O wins and \" \" if a draw or not over\n        if self.eq3(0,1,2) or self.eq3(0,4,8) or self.eq3(0,3,6):\n            return self.board[0]\n        if self.eq3(1,4,7) or self.eq3(3,4,5) or self.eq3(2,4,6):\n            return self.board[4]\n        if self.eq3(2,5,8) or self.eq3(6,7,8):\n            return self.board[8]      \n        return self.space\n    \n    \n    def Other(self,character):\n        if character == self.X:\n            return self.O\n        if character == self.O:\n            return self.X\n        print(\"Error Character not recognised\")\n        return self.space\n        \n        \n    def all_possible_moves_for(self, choosing_this_character):\n        \n        list_of_all_possible_moves = []\n        for index in range(len(self.board)):\n            if self.board[index] == self.space:\n                list_of_all_possible_moves.append( CurrentBoard(self.board[:index]+choosing_this_character + self.board[index+1:]))\n            \n        \n        \n        \n        return list_of_all_possible_moves\n    ",
      "execution_count": 2,
      "outputs": []
    },
    {
      "metadata": {
        "trusted": true
      },
      "cell_type": "code",
      "source": "game = CurrentBoard(\" X O  X  \")",
      "execution_count": 3,
      "outputs": []
    },
    {
      "metadata": {
        "trusted": true
      },
      "cell_type": "code",
      "source": "game.display_gameboard()",
      "execution_count": 4,
      "outputs": [
        {
          "output_type": "stream",
          "text": "0|X|2\n-----\nO|4|5\n-----\nX|7|8\n",
          "name": "stdout"
        }
      ]
    },
    {
      "metadata": {
        "trusted": true
      },
      "cell_type": "code",
      "source": "class SearchTreeNode:\n    def __init__(self, just_after_choosing_character, Current_Game = None, Ply_Depth = 0):\n        self.children = []\n        self.ply_depth = Ply_Depth\n        self.is_node_value_assigned = False\n        self.node_value = 0\n        self.choosing_character = just_after_choosing_character\n        if Current_Game == None:\n            self.game_at_this_node = CurrentBoard()\n        else: \n            self.game_at_this_node = Current_Game\n            \n        self.generate_children()\n        \n    def generate_children(self):\n        if self.game_at_this_node.game_won() != self.game_at_this_node.space:\n            #Leaf apply utility function\n            if(self.ply_depth % 2) == 1:\n                self.node_value = 1\n            else:\n                self.node_value = -1\n            self.is_node_value_assigned = True\n        else:\n            all_moves = self.game_at_this_node.all_possible_moves_for(self.game_at_this_node.Other(self.choosing_character))\n            if (len(all_moves)==0):\n                     self.node_value = 0\n                     self.is_node_value_assigned = True\n            else:    \n                for new_game in all_moves:\n                    self.children.append(SearchTreeNode(new_game.Other(self.choosing_character),new_game, self.ply_depth+1))\n\n    def get_value(self):\n        if not self.is_node_value_assigned:\n   \n            self.is_node_value_assigned = True\n            self.children = sorted(self.children, key = lambda x: x.get_value()) \n            \n            if (self.ply_depth % 2) == 0: #Maximising Layer\n                self.node_value = self.children[-1].node_value              \n            else: #Minimising Layer\n                self.node_value = self.children[0].node_value            \n                \n        return self.node_value\n        ",
      "execution_count": 5,
      "outputs": []
    },
    {
      "metadata": {
        "trusted": true
      },
      "cell_type": "code",
      "source": "G = SearchTreeNode(\"O\",CurrentBoard(\"XOO    X \"))",
      "execution_count": 7,
      "outputs": []
    },
    {
      "metadata": {
        "trusted": true
      },
      "cell_type": "code",
      "source": "for c in G.children[0].children[0].children[0].children:\n    print (\"This child has value \" + str(c.node_value))\n    c.game_at_this_node.display()",
      "execution_count": 8,
      "outputs": [
        {
          "output_type": "stream",
          "text": "This child has value -1\nX|O|O\n-----\nX|O|X\n-----\nO|X| \nThis child has value 0\nX|O|O\n-----\nX|O|X\n-----\n |X|O\n",
          "name": "stdout"
        }
      ]
    },
    {
      "metadata": {
        "trusted": true
      },
      "cell_type": "code",
      "source": "G.game_at_this_node.display()",
      "execution_count": 9,
      "outputs": [
        {
          "output_type": "stream",
          "text": "X|O|O\n-----\n | | \n-----\n |X| \n",
          "name": "stdout"
        }
      ]
    },
    {
      "metadata": {
        "trusted": true
      },
      "cell_type": "code",
      "source": "G.get_value()",
      "execution_count": 10,
      "outputs": [
        {
          "output_type": "execute_result",
          "execution_count": 10,
          "data": {
            "text/plain": "1"
          },
          "metadata": {}
        }
      ]
    },
    {
      "metadata": {
        "trusted": true
      },
      "cell_type": "code",
      "source": "G.children",
      "execution_count": 11,
      "outputs": [
        {
          "output_type": "execute_result",
          "execution_count": 11,
          "data": {
            "text/plain": "[<__main__.SearchTreeNode at 0x7f01f3c5dbe0>,\n <__main__.SearchTreeNode at 0x7f01f3c5dac8>,\n <__main__.SearchTreeNode at 0x7f01f3c680b8>,\n <__main__.SearchTreeNode at 0x7f01f3c6c630>,\n <__main__.SearchTreeNode at 0x7f01f3c79128>]"
          },
          "metadata": {}
        }
      ]
    },
    {
      "metadata": {
        "trusted": true
      },
      "cell_type": "code",
      "source": "G.children[-1].game_at_this_node.display()",
      "execution_count": 12,
      "outputs": [
        {
          "output_type": "stream",
          "text": "X|O|O\n-----\n | | \n-----\n |X|X\n",
          "name": "stdout"
        }
      ]
    },
    {
      "metadata": {
        "trusted": true
      },
      "cell_type": "code",
      "source": "G.children[3].game_at_this_node. display()",
      "execution_count": 13,
      "outputs": [
        {
          "output_type": "stream",
          "text": "X|O|O\n-----\n | | \n-----\nX|X| \n",
          "name": "stdout"
        }
      ]
    },
    {
      "metadata": {
        "trusted": true
      },
      "cell_type": "code",
      "source": "all_moves = G.game_at_this_node.all_possible_moves_for(\"O\")",
      "execution_count": 14,
      "outputs": []
    },
    {
      "metadata": {
        "trusted": true
      },
      "cell_type": "code",
      "source": "for b in all_moves:\n    print()\n    b.display()\n    print()\n",
      "execution_count": 15,
      "outputs": [
        {
          "output_type": "stream",
          "text": "\nX|O|O\n-----\nO| | \n-----\n |X| \n\n\nX|O|O\n-----\n |O| \n-----\n |X| \n\n\nX|O|O\n-----\n | |O\n-----\n |X| \n\n\nX|O|O\n-----\n | | \n-----\nO|X| \n\n\nX|O|O\n-----\n | | \n-----\n |X|O\n\n",
          "name": "stdout"
        }
      ]
    },
    {
      "metadata": {
        "trusted": true
      },
      "cell_type": "code",
      "source": "cb = CurrentBoard(\"OX   O XX\")",
      "execution_count": 25,
      "outputs": []
    },
    {
      "metadata": {
        "trusted": true
      },
      "cell_type": "code",
      "source": "cb.display()",
      "execution_count": 26,
      "outputs": [
        {
          "output_type": "stream",
          "text": "O|X| \n-----\n | |O\n-----\n |X|X\n",
          "name": "stdout"
        }
      ]
    },
    {
      "metadata": {
        "trusted": true
      },
      "cell_type": "code",
      "source": "all_moves = cb.all_possible_moves_for(\"O\")",
      "execution_count": 27,
      "outputs": []
    },
    {
      "metadata": {
        "trusted": true
      },
      "cell_type": "code",
      "source": "for b in all_moves:\n    print()\n    b.display()",
      "execution_count": 29,
      "outputs": [
        {
          "output_type": "stream",
          "text": "\nO|X|O\n-----\n | |O\n-----\n |X|X\n\nO|X| \n-----\nO| |O\n-----\n |X|X\n\nO|X| \n-----\n |O|O\n-----\n |X|X\n\nO|X| \n-----\n | |O\n-----\nO|X|X\n",
          "name": "stdout"
        }
      ]
    },
    {
      "metadata": {
        "trusted": true
      },
      "cell_type": "code",
      "source": "def play_tic_tac_toe():\n    current_board = None\n    player_choosing = \"\"\n    computer_choosing = \"\"\n\n    choice = input(\"Do your want to go first? y/n\")\n    player_going_first = (choice == \"y\")\n    choice = input(\"Do you want to play X? y/n\")\n    \n    if choice == \"y\":\n        player_choosing = \"X\"\n        computer_choosing = \"O\"\n    else:\n        player_choosing = \"O\"\n        computer_choosing = \"X\"\n        \n    if player_going_first:\n        current_board = CurrentBoard(\"         \")\n    else:\n        # choose a random move\n        empty = \"         \"\n        index = np.random.randint(len(empty))\n        current_board = CurrentBoard(empty[:index] + computer_choosing + empty[index+1:])\n        \n    for i in range(1000):\n        current_board.display_gameboard()\n#         current_board.display()\n        index_as_string = input(\"Choose your move \")\n        index = int(index_as_string)\n        c_b_string = current_board.board\n        current_board = CurrentBoard(c_b_string[:index] + player_choosing + c_b_string[index+1:])\n\n        if current_board.outcome != current_board.space:\n            print(\"I dont believe it!! you won\")\n            break\n        elif len(current_board.all_possible_moves_for(computer_choosing)) == 0:\n            print(\"Congrats you drew!!!\")\n            break\n\n        search_tree = SearchTreeNode(player_choosing, current_board)\n        search_tree.get_value()\n        current_board = search_tree.children[-1].game_at_this_node\n\n        if current_board.outcome != current_board.space:\n            print(\"You are lost\")\n            break\n        elif len(current_board.all_possible_moves_for(player_choosing)) == 0:\n            print(\"Congrats you drew!!!\")\n            break\n\n    \n    return player_going_first, player_choosing, current_board, search_tree",
      "execution_count": 30,
      "outputs": []
    },
    {
      "metadata": {
        "trusted": true
      },
      "cell_type": "code",
      "source": "a, b, c, s = play_tic_tac_toe()",
      "execution_count": 31,
      "outputs": [
        {
          "output_type": "stream",
          "name": "stdout",
          "text": "Do your want to go first? y/ny\nDo you want to play X? y/ny\n0|1|2\n-----\n3|4|5\n-----\n6|7|8\nChoose your move 0\nX|1|2\n-----\n3|O|5\n-----\n6|7|8\nChoose your move 8\nX|1|2\n-----\n3|O|5\n-----\n6|O|X\nChoose your move 1\nX|X|O\n-----\n3|O|5\n-----\n6|O|X\nChoose your move 6\nX|X|O\n-----\nO|O|5\n-----\nX|O|X\nChoose your move 5\nCongrats you drew!!!\n"
        }
      ]
    },
    {
      "metadata": {
        "trusted": true
      },
      "cell_type": "code",
      "source": "s.children[-1].game_at_this_node.display()",
      "execution_count": 32,
      "outputs": [
        {
          "output_type": "stream",
          "text": "X|X|O\n-----\nO|O| \n-----\nX|O|X\n",
          "name": "stdout"
        }
      ]
    },
    {
      "metadata": {
        "trusted": true
      },
      "cell_type": "code",
      "source": "c.display_gameboard()",
      "execution_count": 33,
      "outputs": [
        {
          "output_type": "stream",
          "text": "X|X|O\n-----\nO|O|X\n-----\nX|O|X\n",
          "name": "stdout"
        }
      ]
    }
  ],
  "metadata": {
    "kernelspec": {
      "name": "python36",
      "display_name": "Python 3.6",
      "language": "python"
    },
    "language_info": {
      "mimetype": "text/x-python",
      "nbconvert_exporter": "python",
      "name": "python",
      "pygments_lexer": "ipython3",
      "version": "3.6.6",
      "file_extension": ".py",
      "codemirror_mode": {
        "version": 3,
        "name": "ipython"
      }
    }
  },
  "nbformat": 4,
  "nbformat_minor": 2
}